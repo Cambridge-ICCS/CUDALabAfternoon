{
 "cells": [
  {
   "cell_type": "markdown",
   "id": "b36e22c2-d334-4fd6-a061-b3a817c7e117",
   "metadata": {},
   "source": [
    "# About\n",
    "\n",
    "*by Dr Paul Richmond ([ICCS](https://iccs.cam.ac.uk/) Engineering Lead at University of Cambridge)*\n",
    "\n",
    "This is an \"Introduction to CUDA\" lab designed to be executed inside a Jupyter notebook. It follows on from a series of lectures. You can use the notebook functionality to edit files and run code cells.\n",
    "\n",
    "Some hints are provided in hidden markdown cells. If you are struggling with a particular exercise then click the three dots \"...\" to show the hint (if one is available)."
   ]
  },
  {
   "cell_type": "markdown",
   "id": "dd7dda2e-7981-471a-827d-38d66c361084",
   "metadata": {
    "jupyter": {
     "source_hidden": true
    },
    "tags": []
   },
   "source": [
    "*Note: If you are running this lab on Google Colab then you will need to run the following code cell to obtain the source files.* "
   ]
  },
  {
   "cell_type": "code",
   "execution_count": null,
   "id": "034df1bd-677c-4d0e-877e-861a64d438a4",
   "metadata": {
    "jupyter": {
     "source_hidden": true
    },
    "tags": []
   },
   "outputs": [],
   "source": [
    "!git init .\n",
    "!git remote add -f origin https://github.com/Cambridge-ICCS/CUDALabAfternoon.git\n",
    "!git checkout main"
   ]
  },
  {
   "cell_type": "markdown",
   "id": "db1300d2-c800-420f-8a69-5b9a2e5649b4",
   "metadata": {},
   "source": [
    "## Introduction to Task\n",
    "\n",
    "For this session we are going to start by improving the performance of an existing CUDA program [`boxblur.cu`](./boxblur.ci) (you can open the file in the jupyter-lab editor by clicking on it). The starting code provided contains an implementation of a simple box blur. The box blur (also known as a box linear filter) is an operation which samples neighbouring pixels of an input image to output an average value. When applied iteratively to an image, the box filter can be used to approximate a more complicated Gaussian blur ([wiki link](https://en.wikipedia.org/wiki/Gaussian_blur)). The box blur can be described as follows.\n",
    "\n",
    "$$Out_{x,y}=\\frac{I_{x-1,y-1} +I_{x,y-1} +I_{x+1,y-1} +I_{x-1,y} +I_{x,y} +I_{x+1,y} +I_{x-1,y+1} +I_{x,y+1} +I_{x+1,y+1}}{9} $$\n",
    "\n",
    "Within the implementation provided, the box blur has the property that outside of the bounds of the input image values are `0`. The code works for fixed sized square images. An image `input.ppm` is provided in the ppm format and code is provided for image reading and writing. You can use your own image but make sure that the `IMAGE_SIZE` macro is changed to reflect your image size.\n",
    "   \n",
    "![Box Blur](./blur.png)\n",
    "\n",
    "*Figure 1 - Result of applying the Box filter for 0, 50 and 100 iterations on a photograph of the trainers dog (note: he looks cuter than he is...)*\n",
    "\n",
    "Try compiling and running the code using the code cells below (or via a jupyter-lab Terminal) and examine the output of the blurred image. Make a note of the execution time reported.\n",
    "\n",
    "*Note: The pre-processer declaration (`-D`) in the compilation is used to change code paths so that different versions of the main box blur loop can be easily switched between. Examine the starting code so that you can see where the switch takes place within the `main` function. There is a seperate switch case for each exercise in this lab.*\n",
    "\n",
    "\n"
   ]
  },
  {
   "cell_type": "code",
   "execution_count": null,
   "id": "af714b5d-62c9-48d5-a2d1-db5c818cd74f",
   "metadata": {
    "tags": []
   },
   "outputs": [],
   "source": [
    "# compile\n",
    "!nvcc boxblur.cu -D EXERCISE_MODE=STARTING_CODE -o boxblur"
   ]
  },
  {
   "cell_type": "code",
   "execution_count": null,
   "id": "de867532-5bd9-4ae3-8f75-974e2b3b96b8",
   "metadata": {
    "tags": []
   },
   "outputs": [],
   "source": [
    "# execute\n",
    "!./boxblur"
   ]
  },
  {
   "cell_type": "markdown",
   "id": "25cad9d3-6a4c-40d2-94a0-6f1db0fffa34",
   "metadata": {},
   "source": [
    "## Displaying the starting image\n",
    "\n",
    "You can view the original (starting) image for this exercise by running the code cell below. The file format is a `ppm` file which is an uncompressed human readable format (it is not recommended to open it in a text editor as the original is `2048 x 2048` pixels in size!).\n",
    "\n",
    "Note: This will resize the image to `512 x 512` and requires that the Python environment has the `pillow` package. You can install pillow using the code cell below if it is not already available in your python environment."
   ]
  },
  {
   "cell_type": "code",
   "execution_count": null,
   "id": "617f5264-17fb-42ec-9803-6a1321176f9b",
   "metadata": {
    "tags": []
   },
   "outputs": [],
   "source": [
    "!pip install pillow"
   ]
  },
  {
   "cell_type": "code",
   "execution_count": null,
   "id": "3af75d3e-192e-4951-8d0a-7e4b06150169",
   "metadata": {
    "tags": []
   },
   "outputs": [],
   "source": [
    "from IPython.display import display\n",
    "from PIL import Image as PILImage\n",
    "display(PILImage.open('input.ppm').resize((512,512)))"
   ]
  },
  {
   "cell_type": "markdown",
   "id": "6ed55203-a3c3-423e-8842-4dcdabb96c0a",
   "metadata": {},
   "source": [
    "## Displaying the output image\n",
    "\n",
    "You can view the output image of the CUDA box blur program by running the code cell below. You can come back and run this cell any time you have run the program to ensure that the output is as you would expect."
   ]
  },
  {
   "cell_type": "code",
   "execution_count": null,
   "id": "8d2eb7df-8192-403b-a234-49b5f3a6d106",
   "metadata": {
    "tags": []
   },
   "outputs": [],
   "source": [
    "from IPython.display import display\n",
    "from PIL import Image as PILImage\n",
    "display(PILImage.open('output.ppm').resize((512,512)))"
   ]
  },
  {
   "cell_type": "markdown",
   "id": "b6c3b35d-0fd9-4bf6-b4bb-022d8ddf3255",
   "metadata": {},
   "source": [
    "## Exercise 1\n",
    "\n",
    "The code has a number of inefficiencies. We will first consider the transfer bottleneck. For each iteration of applying the box filter/blur the algorithms performs the following steps\n",
    "\n",
    "1. Copy the previous iterations (or input) image from the host to the device\n",
    "2. Apply the box blur GPU kernel\n",
    "3. Copy the results back to the host and repeat the above.\n",
    "\n",
    "It is not necessary to copy the results of each filter operation back to the host. We can simply pass the pointer of the previous iterations output as the input for the next iterations. This will drastically reduce memory movements via PCIe. To implement pointer swapping complete the following steps."
   ]
  },
  {
   "cell_type": "markdown",
   "id": "ab77b8ac-1b00-4e3d-b4a2-0a5cd87c1075",
   "metadata": {},
   "source": [
    "### Step 1\n",
    "\n",
    "Starting from the code in the `STARTING_CODE` switch case make a copy into the `EXERCISE_01` switch case"
   ]
  },
  {
   "cell_type": "markdown",
   "id": "e5804ad2-0752-42f8-be91-b5f94bac5451",
   "metadata": {},
   "source": [
    "### Step 2\n",
    "\n",
    "Move the memory copy of the input image outside of the `ITERATIONS` loop so that the host data is copied to the device only once.\n"
   ]
  },
  {
   "cell_type": "markdown",
   "id": "3a735f9e-f0f5-46f9-aec7-3b27159e702d",
   "metadata": {},
   "source": [
    "### Step 3\n",
    "\n",
    "A pointer `d_image_temp` has been defined for you. Use this as a temporary pointer to swap the areas of memory pointer to by `d_image` and `d_image_output` after the box blur kernel is applied.\n"
   ]
  },
  {
   "cell_type": "markdown",
   "id": "415ad32d-49a2-4916-b05c-6f11e53a2a47",
   "metadata": {},
   "source": [
    "### Step 4\n",
    "\n",
    "Move the memory copy of the output image outside of the `ITERATIONS` loop so that the device data is copied back to the host only once. *Note: Be careful that you copy back from the correct device pointer if you have swapped them!*"
   ]
  },
  {
   "cell_type": "markdown",
   "id": "63e614bc-a441-45b9-a8be-d06143372a10",
   "metadata": {},
   "source": [
    "### Step 5\n",
    "\n",
    "Compile and execute your code.  Ensure that the variable exercise is set to `EXERCISE_01` so that your modified code is executed. Make a note of the execution time. It should be considerably faster than previously."
   ]
  },
  {
   "cell_type": "code",
   "execution_count": null,
   "id": "1f5aa240-0c7f-45b5-8866-f803aaf88a1b",
   "metadata": {
    "tags": []
   },
   "outputs": [],
   "source": [
    "# compile\n",
    "!nvcc boxblur.cu -D EXERCISE_MODE=EXERCISE_01 -o boxblur"
   ]
  },
  {
   "cell_type": "code",
   "execution_count": null,
   "id": "a892487f-c9d0-49da-b6b3-e1c960ba2d0f",
   "metadata": {
    "tags": []
   },
   "outputs": [],
   "source": [
    "# execute\n",
    "!./boxblur"
   ]
  },
  {
   "cell_type": "markdown",
   "id": "31363c07-c4bb-4666-8215-15de66a4208c",
   "metadata": {},
   "source": [
    "## Exercise 2\n",
    "\n",
    "The `image_blur_columns kernel` currently has a poor memory access pattern. Let us consider why this is. For each thread which is launched the thread iterates over a unique row of `IMAGE_DIM` pixels to perform the blurring on each pixel. Between each thread this creates a stride of `IMAGE_DIM` between memory loads. CUDA code is much more efficient when sequential threads read from sequential values in memory (memory coalescing). To improve the code, we can implement a row wise version on the kernel by completing the following."
   ]
  },
  {
   "cell_type": "markdown",
   "id": "92568a2e-ed15-4cca-b692-99de829dfc24",
   "metadata": {},
   "source": [
    "### Step 1\n",
    "\n",
    "Copy the `image_blur_columns` kernel and call the new kernel `image_blur_rows`.\n"
   ]
  },
  {
   "cell_type": "markdown",
   "id": "2830d3c0-316e-4c2e-af20-6e700fff81c7",
   "metadata": {},
   "source": [
    "### Step 2\n",
    "\n",
    "Modify the `image_blur_rows` kernel so that each thread operates on a unique column (rather than row of the images). This will ensure that sequential threads read sequential row values from memory.\n"
   ]
  },
  {
   "cell_type": "markdown",
   "id": "c10b5747-293b-4fe6-b1da-8dd8fc35dadc",
   "metadata": {},
   "source": [
    "### Step 3\n",
    "\n",
    "Implement the `EXERCISE_02` switch case (by copying the previous one) ensuring that your host code calls your new kernel"
   ]
  },
  {
   "cell_type": "markdown",
   "id": "cec5f9a8-78ea-4b36-93da-433d8afcc232",
   "metadata": {},
   "source": [
    "### Step 4\n",
    "\n",
    "Compile and execute your code. Ensure that the variable exercise is set to `EXERCISE_02` so that your modified code is executed. Make a note of the execution time. It should be considerably faster than previously."
   ]
  },
  {
   "cell_type": "code",
   "execution_count": null,
   "id": "e8aabfdc-bb13-402a-a9c1-12142b571920",
   "metadata": {
    "tags": []
   },
   "outputs": [],
   "source": [
    "# compile\n",
    "!nvcc boxblur.cu -D EXERCISE_MODE=EXERCISE_02 -o boxblur"
   ]
  },
  {
   "cell_type": "code",
   "execution_count": null,
   "id": "d88b2105-1ff9-44fb-a64f-9c8a97c49e3c",
   "metadata": {
    "tags": []
   },
   "outputs": [],
   "source": [
    "# execute\n",
    "!./boxblur"
   ]
  },
  {
   "cell_type": "markdown",
   "id": "797f34c6-cd3c-4cb0-bf93-f7a0f9d7359f",
   "metadata": {},
   "source": [
    "## Exercise 3\n",
    "\n",
    "Our previous implementations of the blur kernel have a limited amount of parallelism. There are in total `IMAGE_DIM` threads launched and each of the threads is responsible for calculating a unique row or column. Whilst this number of threads might seem reasonably large it is unlikely that it is sufficient to occupy all of the Streaming Multiprocessors of the device. To increase the level of parallelism and improve the occupancy it is possible to launch a unique thread for each pixel of the image. To implement this, complete the following steps."
   ]
  },
  {
   "cell_type": "markdown",
   "id": "ac9a7242-8510-4a69-9bbb-c7def252061d",
   "metadata": {},
   "source": [
    "### Step 1\n",
    "\n",
    "Make a copy of the image_blur_rows kernel and call it `image_blur_2d`. Modify the new kernel so that the `x` and `y` locations are determined from the thread and block index. You can then remove the row loop as the kernel is responsible for calculating only a single pixel value."
   ]
  },
  {
   "cell_type": "markdown",
   "id": "a7f10757-bc3c-40d9-a295-ebeb664076fb",
   "metadata": {},
   "source": [
    "### Step 2\n",
    "\n",
    "Implement the `EXERCISE_03` switch case (by copying the previous one). You will need to change the block and grid dimensions so that they launch `IMAGE_DIM²` threads in total."
   ]
  },
  {
   "cell_type": "markdown",
   "id": "75f869e9-44e9-49b3-80ee-d001def07878",
   "metadata": {},
   "source": [
    "### Step 3\n",
    "\n",
    "Compile and execute your code. Ensure that the variable `exercise` is set to `EXERCISE_03` so that your modified code is executed. Make a note of the execution time. It should be considerably faster than previously."
   ]
  },
  {
   "cell_type": "code",
   "execution_count": null,
   "id": "daed70aa-18f2-41b4-b083-39dd631ecafc",
   "metadata": {
    "tags": []
   },
   "outputs": [],
   "source": [
    "# compile\n",
    "!nvcc boxblur.cu -D EXERCISE_MODE=EXERCISE_03 -o boxblur"
   ]
  },
  {
   "cell_type": "code",
   "execution_count": null,
   "id": "ceb08392-dae6-4772-a4c2-85f796945d9b",
   "metadata": {
    "tags": []
   },
   "outputs": [],
   "source": [
    "# execute\n",
    "!./boxblur"
   ]
  },
  {
   "cell_type": "markdown",
   "id": "e6d0d454-d345-4323-9821-62eca2ba023a",
   "metadata": {},
   "source": [
    "## Solutions"
   ]
  },
  {
   "cell_type": "markdown",
   "id": "42ea6ae7-0650-4ad9-a4c9-968769ef4797",
   "metadata": {},
   "source": [
    "If you have found that you have got stuck with the code you can view the solutions by checking out the solution file using the code cell below. The command will checkout a single file from the solutions branch of the repository but it will override any changes you have made."
   ]
  },
  {
   "cell_type": "code",
   "execution_count": null,
   "id": "5d91ba57-de12-4500-82f6-752725b4cdf2",
   "metadata": {},
   "outputs": [],
   "source": [
    "!git checkout origin/solutions -- boxblur.cu"
   ]
  },
  {
   "cell_type": "markdown",
   "id": "519dc238-a028-4964-8b61-fa30eab53f80",
   "metadata": {},
   "source": []
  }
 ],
 "metadata": {
  "kernelspec": {
   "display_name": "Python 3 (ipykernel)",
   "language": "python",
   "name": "python3"
  },
  "language_info": {
   "codemirror_mode": {
    "name": "ipython",
    "version": 3
   },
   "file_extension": ".py",
   "mimetype": "text/x-python",
   "name": "python",
   "nbconvert_exporter": "python",
   "pygments_lexer": "ipython3",
   "version": "3.9.16"
  }
 },
 "nbformat": 4,
 "nbformat_minor": 5
}
